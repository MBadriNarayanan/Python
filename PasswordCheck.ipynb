{
 "cells": [
  {
   "cell_type": "code",
   "execution_count": 1,
   "metadata": {},
   "outputs": [],
   "source": [
    "import string\n",
    "\n",
    "def check(password) :\n",
    "    \n",
    "    flag1 = False\n",
    "    \n",
    "    flag2 = False\n",
    "    \n",
    "    flag3 = False\n",
    "    \n",
    "    flag4 = False\n",
    "    \n",
    "    flag5 = False\n",
    "    \n",
    "    flag6 = False\n",
    "    \n",
    "    flag7 =  False\n",
    "     \n",
    "    if (len(password) > 6) and (len(password) < 15) :\n",
    "            \n",
    "            for i in password :\n",
    "                \n",
    "                if i.islower() :\n",
    "                    \n",
    "                    flag1 = True\n",
    "                    \n",
    "                if i.isupper() :\n",
    "                    \n",
    "                    flag2 = True\n",
    "                    \n",
    "                if i.isalnum() :\n",
    "                    \n",
    "                    flag3 = True\n",
    "                    \n",
    "                if i.isdigit() :\n",
    "                    \n",
    "                    flag4 = True\n",
    "                    \n",
    "                if (not i.isalnum()) :\n",
    "                    \n",
    "                    flag5 = True\n",
    "                    \n",
    "                if i == '*' :\n",
    "                    \n",
    "                    flag6 = True\n",
    "                    \n",
    "                if i == '&' :\n",
    "                    \n",
    "                    flag7 = True\n",
    "                    \n",
    "    else :\n",
    "            \n",
    "        if(len(password) < 6) :\n",
    "                \n",
    "            print(\" Enter A Password Of Length > 6 \")\n",
    "                \n",
    "        if(len(password) > 15) :\n",
    "                \n",
    "            print(\" Enter A Password Of Length < 15 \")\n",
    "                \n",
    "    return flag1,flag2,flag3,flag4,flag5,flag6,flag7"
   ]
  },
  {
   "cell_type": "code",
   "execution_count": 2,
   "metadata": {},
   "outputs": [],
   "source": [
    "def flag_check(flag) :\n",
    "        \n",
    "    \n",
    "    flag1 = flag[0]\n",
    "    \n",
    "    flag2 = flag[1]\n",
    "    \n",
    "    flag3 = flag[2]\n",
    "    \n",
    "    flag4 = flag[3]\n",
    "    \n",
    "    flag5 = flag[4]\n",
    "    \n",
    "    flag6 = flag[5]\n",
    "    \n",
    "    flag7 = flag[6]\n",
    "    \n",
    "    if flag1 == True and flag2 == True and flag3 == True and flag4 == True and flag5 == True and flag6 == False and flag7 == False :\n",
    "        \n",
    "        print(\" Correct Password \")\n",
    "        \n",
    "        return True\n",
    "    \n",
    "    else :\n",
    "        \n",
    "        print(\" Wrong Password \")\n",
    "\n",
    "        if flag1 == False :\n",
    "\n",
    "            print(\" No Lower Case Character Present\")\n",
    "\n",
    "        if flag2 == False :\n",
    "\n",
    "            print(\" No Upper Case Character Present\")\n",
    "\n",
    "        if flag3 == False :\n",
    "\n",
    "            print(\" No AlphaNumeric Character Present\")\n",
    "\n",
    "        if flag4 == False :\n",
    "\n",
    "            print(\" No Numeric Character Present\")\n",
    "\n",
    "        if flag5 == False :\n",
    "\n",
    "            print(\" No Special Character Present\")\n",
    "\n",
    "        if flag6 == True :\n",
    "\n",
    "            print(\" * Present \")\n",
    "\n",
    "        if flag7 == True :\n",
    "\n",
    "            print(\" & Present \")\n",
    "\n",
    "        return False"
   ]
  },
  {
   "cell_type": "code",
   "execution_count": 3,
   "metadata": {},
   "outputs": [
    {
     "name": "stdout",
     "output_type": "stream",
     "text": [
      " Enter Password : Ita2018!\n",
      " Correct Password \n"
     ]
    },
    {
     "data": {
      "text/plain": [
       "True"
      ]
     },
     "execution_count": 3,
     "metadata": {},
     "output_type": "execute_result"
    }
   ],
   "source": [
    "password = input(\" Enter Password : \")\n",
    "\n",
    "flag_check(check(password))"
   ]
  }
 ],
 "metadata": {
  "kernelspec": {
   "display_name": "Python 3",
   "language": "python",
   "name": "python3"
  },
  "language_info": {
   "codemirror_mode": {
    "name": "ipython",
    "version": 3
   },
   "file_extension": ".py",
   "mimetype": "text/x-python",
   "name": "python",
   "nbconvert_exporter": "python",
   "pygments_lexer": "ipython3",
   "version": "3.7.6"
  }
 },
 "nbformat": 4,
 "nbformat_minor": 2
}
