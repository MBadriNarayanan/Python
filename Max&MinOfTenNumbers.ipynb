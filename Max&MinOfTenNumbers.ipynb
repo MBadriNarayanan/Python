{
 "cells": [
  {
   "cell_type": "code",
   "execution_count": 1,
   "metadata": {},
   "outputs": [
    {
     "name": "stdout",
     "output_type": "stream",
     "text": [
      " Enter A Number : 10\n",
      " Enter A Number : 45\n",
      " Enter A Number : -9\n",
      " Enter A Number : 16\n",
      " Enter A Number : 90\n",
      " Enter A Number : 123\n",
      " Enter A Number : -11\n",
      " Enter A Number : 0\n",
      " Enter A Number : 138\n",
      " Enter A Number : 678\n",
      " Smallest Is :  -11\n",
      " Greatest Is :  678\n"
     ]
    }
   ],
   "source": [
    "smallest = 0\n",
    "\n",
    "greatest = 0\n",
    "\n",
    "for i in range (1,11) :\n",
    "    \n",
    "    num = int(input(\" Enter A Number : \"))\n",
    "    \n",
    "    if i == 1 :\n",
    "        \n",
    "        smallest = greatest = num\n",
    "        \n",
    "    else :\n",
    "        \n",
    "        if num > greatest :\n",
    "        \n",
    "            greatest = num\n",
    "        \n",
    "        if num < smallest :\n",
    "            \n",
    "            smallest = num\n",
    "            \n",
    "print(\" Smallest Is : \", smallest)\n",
    "\n",
    "print(\" Greatest Is : \", greatest)"
   ]
  }
 ],
 "metadata": {
  "kernelspec": {
   "display_name": "Python 3",
   "language": "python",
   "name": "python3"
  },
  "language_info": {
   "codemirror_mode": {
    "name": "ipython",
    "version": 3
   },
   "file_extension": ".py",
   "mimetype": "text/x-python",
   "name": "python",
   "nbconvert_exporter": "python",
   "pygments_lexer": "ipython3",
   "version": "3.7.6"
  }
 },
 "nbformat": 4,
 "nbformat_minor": 2
}
