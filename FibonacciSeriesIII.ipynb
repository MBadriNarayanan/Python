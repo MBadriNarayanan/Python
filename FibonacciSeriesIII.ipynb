{
 "cells": [
  {
   "cell_type": "code",
   "execution_count": 1,
   "metadata": {},
   "outputs": [],
   "source": [
    "def fibo(any_series) :\n",
    "    \n",
    "    i = 2\n",
    "    \n",
    "    number = 0\n",
    "    \n",
    "    length = len(any_series)\n",
    "    \n",
    "    a = 0\n",
    "    \n",
    "    b = 0\n",
    "    \n",
    "    c = 0 \n",
    "    \n",
    "    flag = False\n",
    "    \n",
    "    while i < length and flag == False :\n",
    "        \n",
    "        a = any_series[i - 1]\n",
    "        \n",
    "        b = any_series[i - 2]\n",
    "        \n",
    "        c = a + b\n",
    "        \n",
    "        number = any_series[i]\n",
    "        \n",
    "        if(int(c) == number) :\n",
    "            \n",
    "            flag = True\n",
    "            \n",
    "    if flag == False :\n",
    "        \n",
    "        return False\n",
    "    \n",
    "    else :\n",
    "        \n",
    "        return True"
   ]
  },
  {
   "cell_type": "code",
   "execution_count": 2,
   "metadata": {},
   "outputs": [],
   "source": [
    "def generate_series(n) :\n",
    "    \n",
    "    any_series = []\n",
    "\n",
    "    for i in range(n) :\n",
    "\n",
    "        number = int(input(\" Enter Value : \"))\n",
    "        \n",
    "        any_series.append(number)\n",
    "    \n",
    "    return any_series "
   ]
  },
  {
   "cell_type": "code",
   "execution_count": 3,
   "metadata": {},
   "outputs": [
    {
     "name": "stdout",
     "output_type": "stream",
     "text": [
      " Enter Length Of The Series To Be Checked > 2 : 5\n",
      " Enter Value : 21\n",
      " Enter Value : 34\n",
      " Enter Value : 55\n",
      " Enter Value : 89\n",
      " Enter Value : 144\n",
      " Given Series :  [21, 34, 55, 89, 144]\n",
      "  [21, 34, 55, 89, 144]  Is A Fibonacci Series \n"
     ]
    }
   ],
   "source": [
    "n = int(input(\" Enter Length Of The Series To Be Checked > 2 : \"))\n",
    "\n",
    "any_series = generate_series(n)\n",
    "\n",
    "print(\" Given Series : \",any_series)\n",
    "\n",
    "if(fibo(any_series)) :\n",
    "    \n",
    "    print(\" \",any_series,\" Is A Fibonacci Series \")\n",
    "    \n",
    "else :\n",
    "    \n",
    "    print(\" \",any_series,\" Is Not A Fibonacci Series \")"
   ]
  }
 ],
 "metadata": {
  "kernelspec": {
   "display_name": "Python 3",
   "language": "python",
   "name": "python3"
  },
  "language_info": {
   "codemirror_mode": {
    "name": "ipython",
    "version": 3
   },
   "file_extension": ".py",
   "mimetype": "text/x-python",
   "name": "python",
   "nbconvert_exporter": "python",
   "pygments_lexer": "ipython3",
   "version": "3.7.6"
  }
 },
 "nbformat": 4,
 "nbformat_minor": 2
}
