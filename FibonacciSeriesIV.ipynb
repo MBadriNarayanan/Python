{
 "cells": [
  {
   "cell_type": "code",
   "execution_count": 1,
   "metadata": {},
   "outputs": [],
   "source": [
    "def fibonacci(n) :\n",
    "    \n",
    "    if n <= 1 :\n",
    "        \n",
    "        return n\n",
    "    \n",
    "    else :\n",
    "        \n",
    "        return fibonacci(n -1) + fibonacci(n -2)"
   ]
  },
  {
   "cell_type": "code",
   "execution_count": 2,
   "metadata": {},
   "outputs": [
    {
     "name": "stdout",
     "output_type": "stream",
     "text": [
      " Enter Number Of Terms : 6\n",
      " Fibonacci Series Till  6 th Term \n",
      "  0   1   1   2   3   5 "
     ]
    }
   ],
   "source": [
    "n = int(input(\" Enter Number Of Terms : \"))\n",
    "\n",
    "print(\" Fibonacci Series Till \", n , \"th Term \")\n",
    "\n",
    "for i in range(n) :\n",
    "    \n",
    "    print(\" \",fibonacci(i),end = \" \")"
   ]
  }
 ],
 "metadata": {
  "kernelspec": {
   "display_name": "Python 3",
   "language": "python",
   "name": "python3"
  },
  "language_info": {
   "codemirror_mode": {
    "name": "ipython",
    "version": 3
   },
   "file_extension": ".py",
   "mimetype": "text/x-python",
   "name": "python",
   "nbconvert_exporter": "python",
   "pygments_lexer": "ipython3",
   "version": "3.7.6"
  }
 },
 "nbformat": 4,
 "nbformat_minor": 2
}
