{
 "cells": [
  {
   "cell_type": "code",
   "execution_count": 1,
   "metadata": {},
   "outputs": [],
   "source": [
    "def inp(a,n) :\n",
    "    \n",
    "    for i in range(0,n) :\n",
    "        \n",
    "        a[i] = int(input(\" Enter Value : \"))\n",
    "        \n",
    "    print('\\n')"
   ]
  },
  {
   "cell_type": "code",
   "execution_count": 2,
   "metadata": {},
   "outputs": [],
   "source": [
    "def display(a,n) :\n",
    "    \n",
    "    for i in range(0,n) :\n",
    "        \n",
    "        print(\" \",a[i],end = \" \")\n",
    "        \n",
    "    print('\\n')"
   ]
  },
  {
   "cell_type": "code",
   "execution_count": 3,
   "metadata": {},
   "outputs": [],
   "source": [
    "def partition(a,low,high,order = True) :\n",
    "    \n",
    "    if(order == True) :\n",
    "        \n",
    "        print(\" Sorted In Ascending Order \\n\")\n",
    "        \n",
    "        i = low - 1\n",
    "    \n",
    "        pivot = a[high]\n",
    "\n",
    "        for j in range(low,high) :\n",
    "\n",
    "            if a[j] <= pivot :\n",
    "\n",
    "                i = i + 1\n",
    "\n",
    "                a[i] , a[j] = a[j] , a[i]\n",
    "\n",
    "        a[i+1] , a[high] = a[high],a[i+1]\n",
    "        \n",
    "        \n",
    "    else :\n",
    "        \n",
    "        print(\" Sorted In Descending Order \\n\")\n",
    "        \n",
    "        i = low - 1\n",
    "    \n",
    "        pivot = a[high]\n",
    "\n",
    "        for j in range(low,high) :\n",
    "\n",
    "            if a[j] > pivot :\n",
    "\n",
    "                i = i + 1\n",
    "\n",
    "                a[i] , a[j] = a[j] , a[i]\n",
    "\n",
    "        a[i+1] , a[high] = a[high],a[i+1]\n",
    "        \n",
    "        \n",
    "    return i+1"
   ]
  },
  {
   "cell_type": "code",
   "execution_count": 4,
   "metadata": {},
   "outputs": [],
   "source": [
    "def quicksort(a,low,high,order = True) :\n",
    "    \n",
    "    if low < high :\n",
    "        \n",
    "        p = partition(a,low,high)\n",
    "        \n",
    "        quicksort(a,low,p-1)\n",
    "        \n",
    "        quicksort(a,p+1,high)"
   ]
  },
  {
   "cell_type": "code",
   "execution_count": 5,
   "metadata": {},
   "outputs": [],
   "source": [
    "def main() :\n",
    "    \n",
    "    n = int(input(\" Enter Number Of Elements : \"))\n",
    "    \n",
    "    a = []\n",
    "    \n",
    "    a = [0  for i in range(0,n)]\n",
    "    \n",
    "    inp(a,n)\n",
    "    \n",
    "    display(a,n)\n",
    "    \n",
    "    print(\" Before Sorting \\n \")\n",
    "    \n",
    "    display(a,n)\n",
    "    \n",
    "    quicksort(a,0,n-1)\n",
    "    \n",
    "    display(a,n)  "
   ]
  },
  {
   "cell_type": "code",
   "execution_count": 6,
   "metadata": {},
   "outputs": [
    {
     "name": "stdout",
     "output_type": "stream",
     "text": [
      " Enter Number Of Elements : 5\n",
      " Enter Value : -1\n",
      " Enter Value : 1\n",
      " Enter Value : 2\n",
      " Enter Value : -2\n",
      " Enter Value : 0\n",
      "\n",
      "\n",
      "  -1   1   2   -2   0 \n",
      "\n",
      " Before Sorting \n",
      " \n",
      "  -1   1   2   -2   0 \n",
      "\n",
      " Sorted In Ascending Order \n",
      "\n",
      " Sorted In Ascending Order \n",
      "\n",
      " Sorted In Ascending Order \n",
      "\n",
      "  -2   -1   0   1   2 \n",
      "\n"
     ]
    }
   ],
   "source": [
    "main()"
   ]
  }
 ],
 "metadata": {
  "kernelspec": {
   "display_name": "Python 3",
   "language": "python",
   "name": "python3"
  },
  "language_info": {
   "codemirror_mode": {
    "name": "ipython",
    "version": 3
   },
   "file_extension": ".py",
   "mimetype": "text/x-python",
   "name": "python",
   "nbconvert_exporter": "python",
   "pygments_lexer": "ipython3",
   "version": "3.7.6"
  }
 },
 "nbformat": 4,
 "nbformat_minor": 2
}
