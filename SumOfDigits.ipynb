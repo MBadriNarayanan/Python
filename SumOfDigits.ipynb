{
 "cells": [
  {
   "cell_type": "code",
   "execution_count": 1,
   "metadata": {},
   "outputs": [
    {
     "name": "stdout",
     "output_type": "stream",
     "text": [
      " Enter A Number : 456\n",
      " Sum Of Digits Of  456  Is :  15\n"
     ]
    }
   ],
   "source": [
    "s = 0\n",
    "\n",
    "num = int(input(\" Enter A Number : \"))\n",
    "\n",
    "temp = num \n",
    "\n",
    "while(num) :\n",
    "    \n",
    "    s = s + (num % 10)\n",
    "    \n",
    "    num = int(num / 10)\n",
    "    \n",
    "print(\" Sum Of Digits Of \", temp, \" Is : \",s)"
   ]
  },
  {
   "cell_type": "code",
   "execution_count": null,
   "metadata": {},
   "outputs": [],
   "source": []
  }
 ],
 "metadata": {
  "kernelspec": {
   "display_name": "Python 3",
   "language": "python",
   "name": "python3"
  },
  "language_info": {
   "codemirror_mode": {
    "name": "ipython",
    "version": 3
   },
   "file_extension": ".py",
   "mimetype": "text/x-python",
   "name": "python",
   "nbconvert_exporter": "python",
   "pygments_lexer": "ipython3",
   "version": "3.7.6"
  }
 },
 "nbformat": 4,
 "nbformat_minor": 2
}
