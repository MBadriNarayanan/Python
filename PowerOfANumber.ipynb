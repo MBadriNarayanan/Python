{
 "cells": [
  {
   "cell_type": "code",
   "execution_count": 1,
   "metadata": {},
   "outputs": [],
   "source": [
    "def power(number, exp) :\n",
    "    \n",
    "    if exp == 1 :\n",
    "        \n",
    "        return number\n",
    "    \n",
    "    if exp == 0 :\n",
    "        \n",
    "        return 1\n",
    "    \n",
    "    if exp != 1 :\n",
    "        \n",
    "        return number * power(number , exp -1)"
   ]
  },
  {
   "cell_type": "code",
   "execution_count": 2,
   "metadata": {},
   "outputs": [
    {
     "name": "stdout",
     "output_type": "stream",
     "text": [
      " Enter Base Value : 2\n",
      " Enter Exponent : 3\n",
      "  2  ^  3  =  8\n"
     ]
    }
   ],
   "source": [
    "number = int(input(\" Enter Base Value : \"))\n",
    "\n",
    "exp = int(input(\" Enter Exponent : \"))\n",
    "\n",
    "print(\" \",number,\" ^ \" , exp , \" = \" ,power(number, exp))"
   ]
  }
 ],
 "metadata": {
  "kernelspec": {
   "display_name": "Python 3",
   "language": "python",
   "name": "python3"
  },
  "language_info": {
   "codemirror_mode": {
    "name": "ipython",
    "version": 3
   },
   "file_extension": ".py",
   "mimetype": "text/x-python",
   "name": "python",
   "nbconvert_exporter": "python",
   "pygments_lexer": "ipython3",
   "version": "3.7.6"
  }
 },
 "nbformat": 4,
 "nbformat_minor": 2
}
