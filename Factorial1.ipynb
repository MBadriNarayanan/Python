{
 "cells": [
  {
   "cell_type": "code",
   "execution_count": 1,
   "metadata": {},
   "outputs": [
    {
     "name": "stdout",
     "output_type": "stream",
     "text": [
      " Enter A Number : 4\n",
      "  4  ! =  24\n"
     ]
    }
   ],
   "source": [
    "factorial = 1\n",
    "\n",
    "num = int(input(\" Enter A Number : \"))\n",
    "\n",
    "for i in range(1 , num + 1) :\n",
    "    \n",
    "    factorial = factorial * i\n",
    "    \n",
    "print(\" \",num,\" ! = \",factorial)"
   ]
  },
  {
   "cell_type": "code",
   "execution_count": null,
   "metadata": {},
   "outputs": [],
   "source": []
  }
 ],
 "metadata": {
  "kernelspec": {
   "display_name": "Python 3",
   "language": "python",
   "name": "python3"
  },
  "language_info": {
   "codemirror_mode": {
    "name": "ipython",
    "version": 3
   },
   "file_extension": ".py",
   "mimetype": "text/x-python",
   "name": "python",
   "nbconvert_exporter": "python",
   "pygments_lexer": "ipython3",
   "version": "3.7.6"
  }
 },
 "nbformat": 4,
 "nbformat_minor": 2
}
