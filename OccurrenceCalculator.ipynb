{
 "cells": [
  {
   "cell_type": "code",
   "execution_count": 1,
   "metadata": {},
   "outputs": [],
   "source": [
    "import string\n",
    "\n",
    "def removepunctuation(n) :\n",
    "    \n",
    "    s = \"\"\n",
    "    \n",
    "    for ch in n :\n",
    "        \n",
    "        if ch not in string.punctuation :\n",
    "            \n",
    "            s = s + ch\n",
    "    \n",
    "    s = s.split()\n",
    "    \n",
    "    return s"
   ]
  },
  {
   "cell_type": "code",
   "execution_count": 2,
   "metadata": {},
   "outputs": [],
   "source": [
    "def occurencecalculator(n) :\n",
    "    \n",
    "    var = {}\n",
    "    \n",
    "    for c in n :\n",
    "        \n",
    "        if c not in var :\n",
    "            \n",
    "            var[c] = 0\n",
    "            \n",
    "        var[c] = var[c] + 1\n",
    "        \n",
    "    return var\n",
    "    "
   ]
  },
  {
   "cell_type": "code",
   "execution_count": 3,
   "metadata": {},
   "outputs": [],
   "source": [
    "def display(dictionary) :\n",
    "    \n",
    "    for k,v in sorted(dictionary.items()) :\n",
    "        \n",
    "        print(k,v)"
   ]
  },
  {
   "cell_type": "code",
   "execution_count": 4,
   "metadata": {},
   "outputs": [],
   "source": [
    "def main() :\n",
    "    \n",
    "    n = input(\" Enter A Paragraph : \")\n",
    "    \n",
    "    print(\"\\n Occurence \\n\")\n",
    "    \n",
    "    display(occurencecalculator(removepunctuation(n)))"
   ]
  },
  {
   "cell_type": "code",
   "execution_count": 5,
   "metadata": {},
   "outputs": [
    {
     "name": "stdout",
     "output_type": "stream",
     "text": [
      " Enter A Paragraph : Apple Inc. is an American multinational technology company headquartered in Cupertino, California, that designs, develops, and sells consumer electronics, computer software, and online services. It is considered one of the Big Four technology companies, alongside Amazon, Google, and Microsoft.The company's hardware products include the iPhone smartphone, the iPad tablet computer, the Mac personal computer, the iPod portable media player, the Apple Watch smartwatch, the Apple TV digital media player, the AirPods wireless earbuds and the HomePod smart speaker. Apple's software includes the macOS, iOS, iPadOS, watchOS, and tvOS operating systems, the iTunes media player, the Safari web browser, the Shazam acoustic fingerprint utility, and the iLife and iWork creativity and productivity suites, as well as professional applications like Final Cut Pro, Logic Pro, and Xcode. Its online services include the iTunes Store, the iOS App Store, Mac App Store, Apple Music, Apple TV+, iMessage, and iCloud. Other services include Apple Store, Genius Bar, AppleCare, Apple Pay, Apple Pay Cash, and Apple Card.\n",
      "\n",
      " Occurence \n",
      "\n",
      "  161\n",
      "A 16\n",
      "B 2\n",
      "C 7\n",
      "F 2\n",
      "G 2\n",
      "H 1\n",
      "I 3\n",
      "L 2\n",
      "M 5\n",
      "O 7\n",
      "P 10\n",
      "S 12\n",
      "T 5\n",
      "V 2\n",
      "W 2\n",
      "X 1\n",
      "a 72\n",
      "b 5\n",
      "c 37\n",
      "d 38\n",
      "e 106\n",
      "f 9\n",
      "g 11\n",
      "h 30\n",
      "i 65\n",
      "k 3\n",
      "l 44\n",
      "m 20\n",
      "n 51\n",
      "o 56\n",
      "p 48\n",
      "q 1\n",
      "r 53\n",
      "s 54\n",
      "t 63\n",
      "u 24\n",
      "v 7\n",
      "w 9\n",
      "y 13\n",
      "z 2\n"
     ]
    }
   ],
   "source": [
    "main()"
   ]
  }
 ],
 "metadata": {
  "kernelspec": {
   "display_name": "Python 3",
   "language": "python",
   "name": "python3"
  },
  "language_info": {
   "codemirror_mode": {
    "name": "ipython",
    "version": 3
   },
   "file_extension": ".py",
   "mimetype": "text/x-python",
   "name": "python",
   "nbconvert_exporter": "python",
   "pygments_lexer": "ipython3",
   "version": "3.7.6"
  }
 },
 "nbformat": 4,
 "nbformat_minor": 2
}
