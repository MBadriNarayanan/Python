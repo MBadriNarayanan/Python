{
 "cells": [
  {
   "cell_type": "code",
   "execution_count": 1,
   "metadata": {},
   "outputs": [
    {
     "name": "stdout",
     "output_type": "stream",
     "text": [
      " Enter Your Name : Badri\n",
      " Enter A Number : 5\n",
      " Guess A Smaller Number  Badri  !!!! \n",
      " Enter A Number : 3\n",
      " Guess A Smaller Number  Badri  !!!! \n",
      " Enter A Number : 2\n",
      " You Guessed It In Less Than 3 Chances \n",
      "  Badri  Won !!!! \n"
     ]
    }
   ],
   "source": [
    "import random\n",
    "\n",
    "r  = random.randint(0,10)\n",
    "\n",
    "c = 0\n",
    "\n",
    "name = input(\" Enter Your Name : \")\n",
    "\n",
    "n = int((input(\" Enter A Number : \")))\n",
    "\n",
    "while(n != r):\n",
    "    \n",
    "    if(n > r) : \n",
    "        \n",
    "        print(\" Guess A Smaller Number \" ,name,\" !!!! \")\n",
    "        \n",
    "    if (n < r) :\n",
    "        \n",
    "        print(\" Guess A Larger Number \" ,name,\" !!!! \")\n",
    "        \n",
    "    if n == r :\n",
    "        \n",
    "        print(\" Correct Guess \" ,name,\" !!!! \")\n",
    "    \n",
    "    n = int((input(\" Enter A Number : \")))\n",
    "\n",
    "    c = c + 1\n",
    "    \n",
    "if n == r and c < 3 :\n",
    "    \n",
    "    print(\" You Guessed It In Less Than 3 Chances \")\n",
    "    \n",
    "    print(\" \", name, \" Won !!!! \")\n",
    "    \n",
    "if n == r and c > 3 : \n",
    "    \n",
    "    print(\" You Guessed It In More Than 3 Chances \")\n",
    "    \n",
    "    print(\" \", name, \" Lost !!!! \")"
   ]
  }
 ],
 "metadata": {
  "kernelspec": {
   "display_name": "Python 3",
   "language": "python",
   "name": "python3"
  },
  "language_info": {
   "codemirror_mode": {
    "name": "ipython",
    "version": 3
   },
   "file_extension": ".py",
   "mimetype": "text/x-python",
   "name": "python",
   "nbconvert_exporter": "python",
   "pygments_lexer": "ipython3",
   "version": "3.7.6"
  }
 },
 "nbformat": 4,
 "nbformat_minor": 2
}
