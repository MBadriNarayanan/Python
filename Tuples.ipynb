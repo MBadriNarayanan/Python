{
 "cells": [
  {
   "cell_type": "code",
   "execution_count": 1,
   "metadata": {},
   "outputs": [],
   "source": [
    "import matplotlib.pyplot as plt"
   ]
  },
  {
   "cell_type": "code",
   "execution_count": 2,
   "metadata": {},
   "outputs": [],
   "source": [
    "def getvalue(a,n) :\n",
    "    \n",
    "    for i in range(0,n) :\n",
    "        \n",
    "        a[i] = float(input(\" Enter Mark Of Student : \"))\n",
    "    \n",
    "    b = tuple(a)\n",
    "    \n",
    "    print(\"\\n\")\n",
    "    \n",
    "    return b\n",
    "    \n",
    "def histogram(b) :\n",
    "    \n",
    "    print(\"\\n\")\n",
    "    \n",
    "    plt.xlabel(' Marks ')\n",
    "    \n",
    "    plt.ylabel(' No Of Students ')\n",
    "    \n",
    "    bin_edges = [0,10,20,30,40,50,60,70,80,90,100]\n",
    "    \n",
    "    plt.title(' Marks Vs Number Of Students ')\n",
    "    \n",
    "    plt.hist(b,bin_edges,histtype = 'bar',width = 0.8)\n",
    "    \n",
    "    plt.show()\n",
    "    \n",
    "def main() :\n",
    "\n",
    "    a = []\n",
    "    \n",
    "    n = int(input(\" Enter Number Of Students \"))\n",
    "    \n",
    "    a = [0 for i in range(0,n)]\n",
    "    \n",
    "    histogram(getvalue(a,n))"
   ]
  },
  {
   "cell_type": "code",
   "execution_count": 3,
   "metadata": {},
   "outputs": [
    {
     "name": "stdout",
     "output_type": "stream",
     "text": [
      " Enter Number Of Students 67\n",
      " Enter Mark Of Student : 100\n",
      " Enter Mark Of Student : 4\n",
      " Enter Mark Of Student : 70\n",
      " Enter Mark Of Student : 98\n",
      " Enter Mark Of Student : 56\n",
      " Enter Mark Of Student : 84\n",
      " Enter Mark Of Student : 92\n",
      " Enter Mark Of Student : 80\n",
      " Enter Mark Of Student : 8\n",
      " Enter Mark Of Student : 26\n",
      " Enter Mark Of Student : 98\n",
      " Enter Mark Of Student : 86\n",
      " Enter Mark Of Student : 86\n",
      " Enter Mark Of Student : 94\n",
      " Enter Mark Of Student : 90\n",
      " Enter Mark Of Student : 88\n",
      " Enter Mark Of Student : 96\n",
      " Enter Mark Of Student : 98\n",
      " Enter Mark Of Student : 100\n",
      " Enter Mark Of Student : 94\n",
      " Enter Mark Of Student : 96\n",
      " Enter Mark Of Student : 74\n",
      " Enter Mark Of Student : 78\n",
      " Enter Mark Of Student : 94\n",
      " Enter Mark Of Student : 32\n",
      " Enter Mark Of Student : 78\n",
      " Enter Mark Of Student : 86\n",
      " Enter Mark Of Student : 72\n",
      " Enter Mark Of Student : 92\n",
      " Enter Mark Of Student : 83\n",
      " Enter Mark Of Student : 80\n",
      " Enter Mark Of Student : 100\n",
      " Enter Mark Of Student : 82\n",
      " Enter Mark Of Student : 80\n",
      " Enter Mark Of Student : 100\n",
      " Enter Mark Of Student : 98\n",
      " Enter Mark Of Student : 96\n",
      " Enter Mark Of Student : 94\n",
      " Enter Mark Of Student : 98\n",
      " Enter Mark Of Student : 95\n",
      " Enter Mark Of Student : 98\n",
      " Enter Mark Of Student : 88\n",
      " Enter Mark Of Student : 80\n",
      " Enter Mark Of Student : 92\n",
      " Enter Mark Of Student : 87\n",
      " Enter Mark Of Student : 52\n",
      " Enter Mark Of Student : 91\n",
      " Enter Mark Of Student : 82\n",
      " Enter Mark Of Student : 98\n",
      " Enter Mark Of Student : 62\n",
      " Enter Mark Of Student : 100\n",
      " Enter Mark Of Student : 68\n",
      " Enter Mark Of Student : 100\n",
      " Enter Mark Of Student : 82\n",
      " Enter Mark Of Student : 90\n",
      " Enter Mark Of Student : 100\n",
      " Enter Mark Of Student : 93\n",
      " Enter Mark Of Student : 28\n",
      " Enter Mark Of Student : 92\n",
      " Enter Mark Of Student : 96\n",
      " Enter Mark Of Student : 90\n",
      " Enter Mark Of Student : 50\n",
      " Enter Mark Of Student : 19\n",
      " Enter Mark Of Student : 20\n",
      " Enter Mark Of Student : 0\n",
      " Enter Mark Of Student : 3\n",
      " Enter Mark Of Student : 15\n",
      "\n",
      "\n",
      "\n",
      "\n"
     ]
    },
    {
     "data": {
      "image/png": "[encoded data removed]",
      "text/plain": [
       "<Figure size 432x288 with 1 Axes>"
      ]
     },
     "metadata": {
      "needs_background": "light"
     },
     "output_type": "display_data"
    }
   ],
   "source": [
    "main()"
   ]
  }
 ],
 "metadata": {
  "kernelspec": {
   "display_name": "Python 3",
   "language": "python",
   "name": "python3"
  },
  "language_info": {
   "codemirror_mode": {
    "name": "ipython",
    "version": 3
   },
   "file_extension": ".py",
   "mimetype": "text/x-python",
   "name": "python",
   "nbconvert_exporter": "python",
   "pygments_lexer": "ipython3",
   "version": "3.7.6"
  }
 },
 "nbformat": 4,
 "nbformat_minor": 2
}
