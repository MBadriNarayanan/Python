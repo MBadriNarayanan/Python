{
 "cells": [
  {
   "cell_type": "code",
   "execution_count": 1,
   "metadata": {},
   "outputs": [
    {
     "name": "stdout",
     "output_type": "stream",
     "text": [
      " Enter Lower Limit : 1\n",
      " Enter Upper Limit : 100\n",
      " Sum Of n Numbers From  1  To  100  Is :  5050\n"
     ]
    }
   ],
   "source": [
    "s = 0\n",
    "\n",
    "lowerlimit = int(input(\" Enter Lower Limit : \"))\n",
    "\n",
    "i = lowerlimit\n",
    "\n",
    "upperlimit = int(input(\" Enter Upper Limit : \"))\n",
    "\n",
    "for i in range(i,upperlimit + 1) : \n",
    "    \n",
    "    s = s + i\n",
    "    \n",
    "print(\" Sum Of n Numbers From \", lowerlimit ,\" To \", upperlimit, \" Is : \",s)"
   ]
  },
  {
   "cell_type": "code",
   "execution_count": null,
   "metadata": {},
   "outputs": [],
   "source": []
  }
 ],
 "metadata": {
  "kernelspec": {
   "display_name": "Python 3",
   "language": "python",
   "name": "python3"
  },
  "language_info": {
   "codemirror_mode": {
    "name": "ipython",
    "version": 3
   },
   "file_extension": ".py",
   "mimetype": "text/x-python",
   "name": "python",
   "nbconvert_exporter": "python",
   "pygments_lexer": "ipython3",
   "version": "3.7.6"
  }
 },
 "nbformat": 4,
 "nbformat_minor": 2
}
