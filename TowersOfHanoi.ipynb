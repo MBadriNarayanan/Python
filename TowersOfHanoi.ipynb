{
 "cells": [
  {
   "cell_type": "code",
   "execution_count": 1,
   "metadata": {},
   "outputs": [],
   "source": [
    "def moveTower(h ,  fp , tp , mp) :\n",
    "    \n",
    "    if h >= 1 :\n",
    "        \n",
    "        moveTower(h -1 , fp , mp , tp)\n",
    "        \n",
    "        moveDisk(fp , tp , h)\n",
    "        \n",
    "        moveTower(h -1, mp , tp , fp)"
   ]
  },
  {
   "cell_type": "code",
   "execution_count": 2,
   "metadata": {},
   "outputs": [],
   "source": [
    "def moveDisk(fp , tp , h) :\n",
    "    \n",
    "    print(\" Moving Disk \" , h , \" From \" , fp , \" To \" , tp)"
   ]
  },
  {
   "cell_type": "code",
   "execution_count": 5,
   "metadata": {},
   "outputs": [
    {
     "name": "stdout",
     "output_type": "stream",
     "text": [
      " Enter Number Of Disks : 4\n",
      " Moving Disk  1  From   A   To   C \n",
      " Moving Disk  2  From   A   To   B \n",
      " Moving Disk  1  From   C   To   B \n",
      " Moving Disk  3  From   A   To   C \n",
      " Moving Disk  1  From   B   To   A \n",
      " Moving Disk  2  From   B   To   C \n",
      " Moving Disk  1  From   A   To   C \n",
      " Moving Disk  4  From   A   To   B \n",
      " Moving Disk  1  From   C   To   B \n",
      " Moving Disk  2  From   C   To   A \n",
      " Moving Disk  1  From   B   To   A \n",
      " Moving Disk  3  From   C   To   B \n",
      " Moving Disk  1  From   A   To   C \n",
      " Moving Disk  2  From   A   To   B \n",
      " Moving Disk  1  From   C   To   B \n"
     ]
    }
   ],
   "source": [
    "n = int(input(\" Enter Number Of Disks : \"))\n",
    "\n",
    "moveTower(n, \" A \", \" B \" , \" C \")"
   ]
  }
 ],
 "metadata": {
  "kernelspec": {
   "display_name": "Python 3",
   "language": "python",
   "name": "python3"
  },
  "language_info": {
   "codemirror_mode": {
    "name": "ipython",
    "version": 3
   },
   "file_extension": ".py",
   "mimetype": "text/x-python",
   "name": "python",
   "nbconvert_exporter": "python",
   "pygments_lexer": "ipython3",
   "version": "3.7.6"
  }
 },
 "nbformat": 4,
 "nbformat_minor": 2
}
