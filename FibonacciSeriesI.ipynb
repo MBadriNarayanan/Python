{
 "cells": [
  {
   "cell_type": "code",
   "execution_count": 1,
   "metadata": {},
   "outputs": [
    {
     "name": "stdout",
     "output_type": "stream",
     "text": [
      " Enter Limit : 8\n",
      " Fibonacci Series Till  8  Is\n",
      "  0   1   1   2   3   5 "
     ]
    }
   ],
   "source": [
    "a = -1\n",
    "\n",
    "b = 1\n",
    "\n",
    "c = 0\n",
    "\n",
    "c = a + b\n",
    "\n",
    "num = int(input(\" Enter Limit : \"))\n",
    "\n",
    "print(\" Fibonacci Series Till \",num,\" Is\")\n",
    "\n",
    "while(c < num):\n",
    "    \n",
    "    print(\" \",c,end = \" \")\n",
    "    \n",
    "    a = b\n",
    "    \n",
    "    b = c\n",
    "    \n",
    "    c = a + b"
   ]
  },
  {
   "cell_type": "code",
   "execution_count": null,
   "metadata": {},
   "outputs": [],
   "source": []
  }
 ],
 "metadata": {
  "kernelspec": {
   "display_name": "Python 3",
   "language": "python",
   "name": "python3"
  },
  "language_info": {
   "codemirror_mode": {
    "name": "ipython",
    "version": 3
   },
   "file_extension": ".py",
   "mimetype": "text/x-python",
   "name": "python",
   "nbconvert_exporter": "python",
   "pygments_lexer": "ipython3",
   "version": "3.7.6"
  }
 },
 "nbformat": 4,
 "nbformat_minor": 2
}
