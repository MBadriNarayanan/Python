{
 "cells": [
  {
   "cell_type": "code",
   "execution_count": 1,
   "metadata": {},
   "outputs": [],
   "source": [
    "def inp(a,n) :\n",
    "    \n",
    "    for i in range(0,n) :\n",
    "        \n",
    "        a[i] = int(input(\" Enter Value : \"))\n",
    "        \n",
    "    print('\\n')"
   ]
  },
  {
   "cell_type": "code",
   "execution_count": 2,
   "metadata": {},
   "outputs": [],
   "source": [
    "def display(a,n) :\n",
    "    \n",
    "    for i in range(0,n) :\n",
    "        \n",
    "        print(\" \",a[i],end = \" \")\n",
    "        \n",
    "    print('\\n')"
   ]
  },
  {
   "cell_type": "code",
   "execution_count": 3,
   "metadata": {},
   "outputs": [],
   "source": [
    "def binarysearch(a,n,key) :\n",
    "    \n",
    "    lowerlimit = 0\n",
    "    \n",
    "    upperlimit = n-1\n",
    "    \n",
    "    flag = False\n",
    "    \n",
    "    mid = 0\n",
    "    \n",
    "    print(\" Before Sorting \\n \")\n",
    "    \n",
    "    display(a,n)\n",
    "    \n",
    "    print(\" After Sorting \\n\")\n",
    "    \n",
    "    a.sort()\n",
    "    \n",
    "    display(a,n)\n",
    "    \n",
    "    while(lowerlimit <= upperlimit) and (flag == False):\n",
    "        \n",
    "        mid = int((upperlimit + lowerlimit) / 2)\n",
    "        \n",
    "        if a[mid] == key :\n",
    "            \n",
    "            print(\" \",key,\" Found @ \",mid + 1,\"\\n\")\n",
    "            \n",
    "            flag = True\n",
    "            \n",
    "        if a[mid] > key : \n",
    "            \n",
    "            upperlimit = mid - 1\n",
    "            \n",
    "        else : \n",
    "            \n",
    "            lowerlimit = mid + 1\n",
    "    "
   ]
  },
  {
   "cell_type": "code",
   "execution_count": 4,
   "metadata": {},
   "outputs": [],
   "source": [
    "def main() :\n",
    "    \n",
    "    n = int(input(\" Enter Number Of Elements : \"))\n",
    "    \n",
    "    a = []\n",
    "    \n",
    "    a = [0  for i in range(0,n)]\n",
    "    \n",
    "    inp(a,n)\n",
    "    \n",
    "    display(a,n)\n",
    "    \n",
    "    key = int(input(\" Enter Data To Be Searched : \"))\n",
    "    \n",
    "    print(\"\\n\")\n",
    "    \n",
    "    binarysearch(a,n,key)"
   ]
  },
  {
   "cell_type": "code",
   "execution_count": 5,
   "metadata": {},
   "outputs": [
    {
     "name": "stdout",
     "output_type": "stream",
     "text": [
      " Enter Number Of Elements : 5\n",
      " Enter Value : 5\n",
      " Enter Value : 4\n",
      " Enter Value : 3\n",
      " Enter Value : 2\n",
      " Enter Value : 1\n",
      "\n",
      "\n",
      "  5   4   3   2   1 \n",
      "\n",
      " Enter Data To Be Searched : 1\n",
      "\n",
      "\n",
      " Before Sorting \n",
      " \n",
      "  5   4   3   2   1 \n",
      "\n",
      " After Sorting \n",
      "\n",
      "  1   2   3   4   5 \n",
      "\n",
      "  1  Found @  1 \n",
      "\n"
     ]
    }
   ],
   "source": [
    "main()"
   ]
  }
 ],
 "metadata": {
  "kernelspec": {
   "display_name": "Python 3",
   "language": "python",
   "name": "python3"
  },
  "language_info": {
   "codemirror_mode": {
    "name": "ipython",
    "version": 3
   },
   "file_extension": ".py",
   "mimetype": "text/x-python",
   "name": "python",
   "nbconvert_exporter": "python",
   "pygments_lexer": "ipython3",
   "version": "3.7.6"
  }
 },
 "nbformat": 4,
 "nbformat_minor": 2
}
