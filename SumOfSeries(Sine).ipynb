{
 "cells": [
  {
   "cell_type": "code",
   "execution_count": 1,
   "metadata": {},
   "outputs": [
    {
     "name": "stdout",
     "output_type": "stream",
     "text": [
      " Enter Value For X In Degrees : 45\n",
      " Enter Number Of Terms : 70\n",
      " sin  45  =  0.706825181105366\n"
     ]
    }
   ],
   "source": [
    "import math\n",
    "\n",
    "x = int(input(\" Enter Value For X In Degrees : \"))\n",
    "\n",
    "n = int(input(\" Enter Number Of Terms : \"))\n",
    "\n",
    "newx = x * 3.14 / 180\n",
    "\n",
    "i = 1\n",
    "\n",
    "c = 0\n",
    "\n",
    "s = 0\n",
    "\n",
    "sign = 1\n",
    "\n",
    "while(c <= n) :\n",
    "    \n",
    "    s = s + ((sign * math.pow(newx,i))/math.factorial(i))\n",
    "    \n",
    "    c = c + 1\n",
    "    \n",
    "    i = i + 2\n",
    "    \n",
    "    sign = - sign\n",
    "    \n",
    "print(\" sin \",x,\" = \",s)"
   ]
  },
  {
   "cell_type": "code",
   "execution_count": null,
   "metadata": {},
   "outputs": [],
   "source": []
  }
 ],
 "metadata": {
  "kernelspec": {
   "display_name": "Python 3",
   "language": "python",
   "name": "python3"
  },
  "language_info": {
   "codemirror_mode": {
    "name": "ipython",
    "version": 3
   },
   "file_extension": ".py",
   "mimetype": "text/x-python",
   "name": "python",
   "nbconvert_exporter": "python",
   "pygments_lexer": "ipython3",
   "version": "3.7.6"
  }
 },
 "nbformat": 4,
 "nbformat_minor": 2
}
