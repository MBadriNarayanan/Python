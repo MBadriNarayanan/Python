{
 "cells": [
  {
   "cell_type": "code",
   "execution_count": 1,
   "metadata": {},
   "outputs": [
    {
     "name": "stdout",
     "output_type": "stream",
     "text": [
      " Enter A Number : 371\n",
      "  371  Is An Armstrong Number\n"
     ]
    }
   ],
   "source": [
    "import math \n",
    "\n",
    "n = input(\" Enter A Number : \")\n",
    "\n",
    "num = int(n)\n",
    "\n",
    "p = len(n)\n",
    "\n",
    "temp = num\n",
    "\n",
    "s = 0\n",
    "\n",
    "r = 0\n",
    "\n",
    "while(num) :\n",
    "    \n",
    "    r = num % 10\n",
    "    \n",
    "    s = s + math.pow(r,p)\n",
    "    \n",
    "    num = int(num / 10)\n",
    "    \n",
    "if(temp == s) :\n",
    "    \n",
    "    print(\" \",temp,\" Is An Armstrong Number\")\n",
    "    \n",
    "else :\n",
    "    \n",
    "    print(\" \",temp,\" Is Not An Armstrong Number\")"
   ]
  },
  {
   "cell_type": "code",
   "execution_count": null,
   "metadata": {},
   "outputs": [],
   "source": []
  }
 ],
 "metadata": {
  "kernelspec": {
   "display_name": "Python 3",
   "language": "python",
   "name": "python3"
  },
  "language_info": {
   "codemirror_mode": {
    "name": "ipython",
    "version": 3
   },
   "file_extension": ".py",
   "mimetype": "text/x-python",
   "name": "python",
   "nbconvert_exporter": "python",
   "pygments_lexer": "ipython3",
   "version": "3.7.6"
  }
 },
 "nbformat": 4,
 "nbformat_minor": 2
}
