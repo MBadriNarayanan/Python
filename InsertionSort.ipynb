{
 "cells": [
  {
   "cell_type": "code",
   "execution_count": 1,
   "metadata": {},
   "outputs": [],
   "source": [
    "def inp(a,n) :\n",
    "    \n",
    "    for i in range(0,n) :\n",
    "        \n",
    "        a[i] = int(input(\" Enter Value : \"))\n",
    "        \n",
    "    print('\\n')"
   ]
  },
  {
   "cell_type": "code",
   "execution_count": 2,
   "metadata": {},
   "outputs": [],
   "source": [
    "def display(a,n) :\n",
    "    \n",
    "    for i in range(0,n) :\n",
    "        \n",
    "        print(\" \",a[i],end = \" \")\n",
    "        \n",
    "    print('\\n')"
   ]
  },
  {
   "cell_type": "code",
   "execution_count": 3,
   "metadata": {},
   "outputs": [],
   "source": [
    "def insertionsort(a,n,order = True) :\n",
    "    \n",
    "    print(\" Before Sorting \\n \")\n",
    "    \n",
    "    display(a,n)\n",
    "    \n",
    "    if(order == True) :\n",
    "        \n",
    "        print(\" Sorted In Ascending Order \\n\")\n",
    "        \n",
    "        for i in range(1,n) :\n",
    "            \n",
    "            t = a[i]\n",
    "            \n",
    "            j = i -1\n",
    "            \n",
    "            while (j >= 0) and (t < a[j]) :\n",
    "                \n",
    "                a[j + 1] = a[j]\n",
    "                \n",
    "                j = j - 1\n",
    "                \n",
    "            a[j + 1] = t\n",
    "            \n",
    "        display(a,n)\n",
    "        \n",
    "    else :\n",
    "        \n",
    "        print(\" Sorted In Descending Order \\n\")\n",
    "        \n",
    "        for i in range(1,n) :\n",
    "            \n",
    "            t = a[i]\n",
    "            \n",
    "            j = i -1\n",
    "            \n",
    "            while (j >= 0) and (t > a[j]) :\n",
    "                \n",
    "                a[j + 1] = a[j]\n",
    "                \n",
    "                j = j - 1\n",
    "                \n",
    "            a[j + 1] = t\n",
    "            \n",
    "        display(a,n)"
   ]
  },
  {
   "cell_type": "code",
   "execution_count": 4,
   "metadata": {},
   "outputs": [],
   "source": [
    "def main() :\n",
    "    \n",
    "    n = int(input(\" Enter Number Of Elements : \"))\n",
    "    \n",
    "    a = []\n",
    "    \n",
    "    a = [0  for i in range(0,n)]\n",
    "    \n",
    "    inp(a,n)\n",
    "    \n",
    "    display(a,n)\n",
    "    \n",
    "    insertionsort(a,n)"
   ]
  },
  {
   "cell_type": "code",
   "execution_count": 5,
   "metadata": {},
   "outputs": [
    {
     "name": "stdout",
     "output_type": "stream",
     "text": [
      " Enter Number Of Elements : 5\n",
      " Enter Value : 0\n",
      " Enter Value : 1\n",
      " Enter Value : -1\n",
      " Enter Value : -3\n",
      " Enter Value : 3\n",
      "\n",
      "\n",
      "  0   1   -1   -3   3 \n",
      "\n",
      " Before Sorting \n",
      " \n",
      "  0   1   -1   -3   3 \n",
      "\n",
      " Sorted In Ascending Order \n",
      "\n",
      "  -3   -1   0   1   3 \n",
      "\n"
     ]
    }
   ],
   "source": [
    "main()"
   ]
  }
 ],
 "metadata": {
  "kernelspec": {
   "display_name": "Python 3",
   "language": "python",
   "name": "python3"
  },
  "language_info": {
   "codemirror_mode": {
    "name": "ipython",
    "version": 3
   },
   "file_extension": ".py",
   "mimetype": "text/x-python",
   "name": "python",
   "nbconvert_exporter": "python",
   "pygments_lexer": "ipython3",
   "version": "3.7.6"
  }
 },
 "nbformat": 4,
 "nbformat_minor": 2
}
